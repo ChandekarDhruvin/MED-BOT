{
 "cells": [
  {
   "cell_type": "code",
   "execution_count": 125,
   "metadata": {},
   "outputs": [],
   "source": [
    "#Import Library\n",
    "from tkinter import *\n",
    "import tkinter as tk\n",
    "from tkinter import ttk\n",
    "from tkinter import messagebox\n",
    "import webbrowser\n",
    "from gtts import gTTS\n",
    "from playsound import playsound\n",
    "import time\n",
    "\n",
    "\n",
    "import numpy as np\n",
    "import pandas as pd\n",
    "from sklearn import tree\n",
    "from sklearn.ensemble import RandomForestClassifier\n",
    "from sklearn.naive_bayes import GaussianNB\n",
    "from sklearn.metrics import accuracy_score\n",
    "from PIL import Image, ImageTk  # Add this import for better image handling\n",
    "\n",
    "import warnings"
   ]
  },
  {
   "cell_type": "code",
   "execution_count": 126,
   "metadata": {},
   "outputs": [],
   "source": [
    "warnings.filterwarnings('ignore')"
   ]
  },
  {
   "cell_type": "code",
   "execution_count": 127,
   "metadata": {},
   "outputs": [
    {
     "data": {
      "text/plain": [
       "''"
      ]
     },
     "execution_count": 127,
     "metadata": {},
     "output_type": "execute_result"
    }
   ],
   "source": [
    "\n",
    "\n",
    "# Load the dataset\n",
    "df = pd.read_csv(\"Training.csv\")\n",
    "\n",
    "# Define symptoms and diseases\n",
    "l1 = [col for col in df.columns if col != 'prognosis']  # All columns except 'prognosis'\n",
    "disease = df['prognosis'].unique()  # List all unique diseases in 'prognosis'\n",
    "disease_map = {disease[i]: i for i in range(len(disease))}\n",
    "df.replace({'prognosis': disease_map}, inplace=True)\n",
    "\n",
    "X = df[l1]  # Features are all symptom columns\n",
    "y = df[[\"prognosis\"]]  # Target is 'prognosis'\n",
    "y = np.ravel(y)  # Flatten target array for machine learning\n",
    "\n",
    "l2 = [0] * len(l1)\n",
    "\n",
    "# Load testing data\n",
    "tr = pd.read_csv(\"Testing.csv\")\n",
    "tr.replace({'prognosis': {disease[i]: i for i in range(len(disease))}}, inplace=True)\n",
    "\"\""
   ]
  },
  {
   "cell_type": "code",
   "execution_count": 128,
   "metadata": {},
   "outputs": [],
   "source": [
    "\n",
    "X_test = tr[l1]\n",
    "y_test = tr[[\"prognosis\"]]\n",
    "y_test = np.ravel(y_test)\n",
    "\n",
    "# Machine Learning Model Functions\n",
    "def train_decision_tree():\n",
    "    clf = tree.DecisionTreeClassifier()\n",
    "    clf.fit(X, y)\n",
    "    y_pred = clf.predict(X_test)\n",
    "    print(\"Decision tree accuracy:\", accuracy_score(y_test, y_pred))\n",
    "    return clf\n",
    "\n",
    "def train_random_forest():\n",
    "    clf = RandomForestClassifier()\n",
    "    clf.fit(X, y)\n",
    "    y_pred = clf.predict(X_test)\n",
    "    print(\"Random Forest accuracy:\", accuracy_score(y_test, y_pred))\n",
    "    return clf\n",
    "\n",
    "def train_naive_bayes():\n",
    "    clf = GaussianNB()\n",
    "    clf.fit(X, y)\n",
    "    y_pred = clf.predict(X_test)\n",
    "    print(\"Naive Bayes accuracy:\", accuracy_score(y_test, y_pred))\n",
    "    return clf\n"
   ]
  },
  {
   "cell_type": "code",
   "execution_count": 129,
   "metadata": {},
   "outputs": [
    {
     "name": "stdout",
     "output_type": "stream",
     "text": [
      "Decision tree accuracy: 1.0\n"
     ]
    }
   ],
   "source": [
    "\n",
    "# User Interface with Tkinter\n",
    "def open_win():\n",
    "    root = Tk()\n",
    "    root.title(\"DocBot - Disease Prediction\")\n",
    "    \n",
    "    window_width = 800\n",
    "    window_height = 700\n",
    "    screen_width = root.winfo_screenwidth()\n",
    "    screen_height = root.winfo_screenheight()\n",
    "    center_x = int(screen_width / 2 - window_width / 2)\n",
    "    center_y = int(screen_height / 2 - window_height / 2)\n",
    "    \n",
    "    root.geometry(f'{window_width}x{window_height}+{center_x}+{center_y}')\n",
    "    \n",
    "    # Load app icon using PIL's ImageTk\n",
    "    try:\n",
    "        img = Image.open(\"doc1.png\")  # Ensure the file exists in the correct path\n",
    "        icon = ImageTk.PhotoImage(img)\n",
    "        root.iconphoto(True, icon)  # Set the icon for the window\n",
    "    except Exception as e:\n",
    "        print(f\"Error loading image: {e}\")\n",
    "    \n",
    "    root.resizable(False, False)\n",
    "    \n",
    "    # Define symptoms selection\n",
    "    Symptom1 = StringVar()\n",
    "    Symptom2 = StringVar()\n",
    "    Symptom3 = StringVar()\n",
    "    Symptom4 = StringVar()\n",
    "    Symptom5 = StringVar()\n",
    "\n",
    "    # Define text boxes for results\n",
    "    t1 = Text(root, height=5, width=50)\n",
    "    t1.pack()\n",
    "\n",
    "    # Define function for disease prediction\n",
    "    def predict_disease(model):\n",
    "        psymptoms = [Symptom1.get(), Symptom2.get(), Symptom3.get(), Symptom4.get(), Symptom5.get()]\n",
    "        l2 = [1 if symptom in psymptoms else 0 for symptom in l1]\n",
    "        \n",
    "        inputtest = [l2]\n",
    "        predicted = model.predict(inputtest)[0]\n",
    "        if predicted >= 0 and predicted < len(disease):\n",
    "            t1.delete(\"1.0\", END)\n",
    "            t1.insert(END, f\"Predicted Disease: {disease[predicted]}\")\n",
    "        else:\n",
    "            t1.delete(\"1.0\", END)\n",
    "            t1.insert(END, \"Not Found\")\n",
    "\n",
    "    # Add buttons for different models\n",
    "    btn_tree = Button(root, text=\"Decision Tree\", command=lambda: predict_disease(train_decision_tree()))\n",
    "    btn_tree.pack()\n",
    "\n",
    "    btn_rf = Button(root, text=\"Random Forest\", command=lambda: predict_disease(train_random_forest()))\n",
    "    btn_rf.pack()\n",
    "\n",
    "    btn_nb = Button(root, text=\"Naive Bayes\", command=lambda: predict_disease(train_naive_bayes()))\n",
    "    btn_nb.pack()\n",
    "\n",
    "    root.mainloop()\n",
    "\n",
    "# Start the application\n",
    "open_win()\n"
   ]
  },
  {
   "cell_type": "code",
   "execution_count": 106,
   "metadata": {},
   "outputs": [],
   "source": [
    "import playsound"
   ]
  },
  {
   "cell_type": "code",
   "execution_count": null,
   "metadata": {},
   "outputs": [],
   "source": []
  }
 ],
 "metadata": {
  "kernelspec": {
   "display_name": "Python 3",
   "language": "python",
   "name": "python3"
  },
  "language_info": {
   "codemirror_mode": {
    "name": "ipython",
    "version": 3
   },
   "file_extension": ".py",
   "mimetype": "text/x-python",
   "name": "python",
   "nbconvert_exporter": "python",
   "pygments_lexer": "ipython3",
   "version": "3.11.9"
  }
 },
 "nbformat": 4,
 "nbformat_minor": 2
}
